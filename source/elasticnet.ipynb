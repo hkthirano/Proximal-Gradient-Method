{
 "cells": [
  {
   "cell_type": "code",
   "execution_count": 1,
   "metadata": {},
   "outputs": [],
   "source": [
    "import numpy as np\n",
    "import pandas as pd\n",
    "from sklearn.preprocessing import StandardScaler\n",
    "import matplotlib.pyplot as plt\n",
    "from fastprogress import master_bar, progress_bar\n",
    "import matplotlib.animation as animation\n",
    "import os\n",
    "from PIL import Image"
   ]
  },
  {
   "cell_type": "markdown",
   "metadata": {},
   "source": [
    "# 糖尿病患者データセットの準備\n",
    "\n",
    "- １列目：Pregnancies\n",
    "- ２列目：Glucose\n",
    "- ３列目：Blood Pressure\n",
    "- ４列目：Skin Thickness\n",
    "- ５列目：Insulin\n",
    "- ６列目：BMI\n",
    "- ７列目：Diabetes Pedigree Function\n",
    "- ８列目：Age"
   ]
  },
  {
   "cell_type": "code",
   "execution_count": 2,
   "metadata": {},
   "outputs": [
    {
     "data": {
      "text/html": [
       "<div>\n",
       "<style scoped>\n",
       "    .dataframe tbody tr th:only-of-type {\n",
       "        vertical-align: middle;\n",
       "    }\n",
       "\n",
       "    .dataframe tbody tr th {\n",
       "        vertical-align: top;\n",
       "    }\n",
       "\n",
       "    .dataframe thead th {\n",
       "        text-align: right;\n",
       "    }\n",
       "</style>\n",
       "<table border=\"1\" class=\"dataframe\">\n",
       "  <thead>\n",
       "    <tr style=\"text-align: right;\">\n",
       "      <th></th>\n",
       "      <th>0</th>\n",
       "      <th>1</th>\n",
       "      <th>2</th>\n",
       "      <th>3</th>\n",
       "      <th>4</th>\n",
       "      <th>5</th>\n",
       "      <th>6</th>\n",
       "      <th>7</th>\n",
       "      <th>8</th>\n",
       "    </tr>\n",
       "  </thead>\n",
       "  <tbody>\n",
       "    <tr>\n",
       "      <th>0</th>\n",
       "      <td>0.639947</td>\n",
       "      <td>0.848324</td>\n",
       "      <td>0.149641</td>\n",
       "      <td>0.907270</td>\n",
       "      <td>-0.692891</td>\n",
       "      <td>0.204013</td>\n",
       "      <td>0.468492</td>\n",
       "      <td>1.425995</td>\n",
       "      <td>1.0</td>\n",
       "    </tr>\n",
       "    <tr>\n",
       "      <th>1</th>\n",
       "      <td>-0.844885</td>\n",
       "      <td>-1.123396</td>\n",
       "      <td>-0.160546</td>\n",
       "      <td>0.530902</td>\n",
       "      <td>-0.692891</td>\n",
       "      <td>-0.684422</td>\n",
       "      <td>-0.365061</td>\n",
       "      <td>-0.190672</td>\n",
       "      <td>0.0</td>\n",
       "    </tr>\n",
       "    <tr>\n",
       "      <th>2</th>\n",
       "      <td>1.233880</td>\n",
       "      <td>1.943724</td>\n",
       "      <td>-0.263941</td>\n",
       "      <td>-1.288212</td>\n",
       "      <td>-0.692891</td>\n",
       "      <td>-1.103255</td>\n",
       "      <td>0.604397</td>\n",
       "      <td>-0.105584</td>\n",
       "      <td>1.0</td>\n",
       "    </tr>\n",
       "    <tr>\n",
       "      <th>3</th>\n",
       "      <td>-0.844885</td>\n",
       "      <td>-0.998208</td>\n",
       "      <td>-0.160546</td>\n",
       "      <td>0.154533</td>\n",
       "      <td>0.123302</td>\n",
       "      <td>-0.494043</td>\n",
       "      <td>-0.920763</td>\n",
       "      <td>-1.041549</td>\n",
       "      <td>0.0</td>\n",
       "    </tr>\n",
       "    <tr>\n",
       "      <th>4</th>\n",
       "      <td>-1.141852</td>\n",
       "      <td>0.504055</td>\n",
       "      <td>-1.504687</td>\n",
       "      <td>0.907270</td>\n",
       "      <td>0.765836</td>\n",
       "      <td>1.409746</td>\n",
       "      <td>5.484909</td>\n",
       "      <td>-0.020496</td>\n",
       "      <td>1.0</td>\n",
       "    </tr>\n",
       "  </tbody>\n",
       "</table>\n",
       "</div>"
      ],
      "text/plain": [
       "          0         1         2         3         4         5         6  \\\n",
       "0  0.639947  0.848324  0.149641  0.907270 -0.692891  0.204013  0.468492   \n",
       "1 -0.844885 -1.123396 -0.160546  0.530902 -0.692891 -0.684422 -0.365061   \n",
       "2  1.233880  1.943724 -0.263941 -1.288212 -0.692891 -1.103255  0.604397   \n",
       "3 -0.844885 -0.998208 -0.160546  0.154533  0.123302 -0.494043 -0.920763   \n",
       "4 -1.141852  0.504055 -1.504687  0.907270  0.765836  1.409746  5.484909   \n",
       "\n",
       "          7    8  \n",
       "0  1.425995  1.0  \n",
       "1 -0.190672  0.0  \n",
       "2 -0.105584  1.0  \n",
       "3 -1.041549  0.0  \n",
       "4 -0.020496  1.0  "
      ]
     },
     "execution_count": 2,
     "metadata": {},
     "output_type": "execute_result"
    }
   ],
   "source": [
    "dataset = np.loadtxt('https://gist.githubusercontent.com/ktisha/c21e73a1bd1700294ef790c56c8aec1f/raw/819b69b5736821ccee93d05b51de0510bea00294/pima-indians-diabetes.csv', delimiter=',')\n",
    "df = pd.DataFrame(dataset)\n",
    "scaler = StandardScaler()\n",
    "scaler.fit(df.iloc[:, :8])\n",
    "df_s = scaler.transform(df.iloc[:, :8])\n",
    "df.iloc[:, :8] = pd.DataFrame(df_s)\n",
    "\n",
    "x_train = (df.iloc[:, :8]).T\n",
    "y_train = (df.iloc[:,8])\n",
    "\n",
    "df.head()"
   ]
  },
  {
   "cell_type": "markdown",
   "metadata": {},
   "source": [
    "# Elastic NetとProximal Operator\n",
    "\n",
    "詳細：[qiita](https://qiita.com/hokuto_HIRANO/items/9750290cb34a3e4570f1)"
   ]
  },
  {
   "cell_type": "code",
   "execution_count": 3,
   "metadata": {},
   "outputs": [],
   "source": [
    "# L1\n",
    "def l1_norm(lam, w):\n",
    "    penalty = lam * np.sum(np.abs(w))\n",
    "    return penalty\n",
    "\n",
    "# L1 Proximal Operator\n",
    "def prox_l1(w, gamma, lam):\n",
    "    prox = np.zeros(w.shape[0])\n",
    "    thresh = gamma * lam\n",
    "    prox[w >= thresh] = w[w >= thresh] - thresh\n",
    "    prox[w <= -thresh] = w[w <= -thresh] + thresh\n",
    "    \n",
    "    return prox\n",
    "\n",
    "# L2\n",
    "def l2_norm(lam, w):\n",
    "    penalty = lam * np.sum(np.abs(w**2))\n",
    "    return penalty\n",
    "\n",
    "# ElasticNet\n",
    "def elastic_norm(lam, w):\n",
    "    lam1 = lam[0]\n",
    "    lam2 = lam[1]\n",
    "    penalty = l1_norm(lam1, w) + l2_norm(lam2, w)\n",
    "    return penalty\n",
    "\n",
    "# ElasticNet Proximal Operator\n",
    "def prox_elastic(w, gamma, lam):\n",
    "    lam1 = lam[0]\n",
    "    lam2 = lam[1]\n",
    "    Sv = prox_l1(w, gamma, lam1)\n",
    "    prox = Sv/(1+2*gamma*lam2)\n",
    "    return prox"
   ]
  },
  {
   "cell_type": "markdown",
   "metadata": {},
   "source": [
    "# 近接勾配法\n",
    "\n",
    "詳細：[近接勾配法とproximal operator](http://yamagensakam.hatenablog.com/entry/2018/02/14/075106)"
   ]
  },
  {
   "cell_type": "code",
   "execution_count": 4,
   "metadata": {},
   "outputs": [],
   "source": [
    "#近接勾配法\n",
    "def proximal_gradient(grad_f, prox, gamma, objective, init_x, lam, tol = 1e-6):\n",
    "    x = init_x\n",
    "    result = objective(x)\n",
    "    while 1:\n",
    "                \n",
    "        x_new = prox(x - gamma * grad_f(x), gamma)\n",
    "\n",
    "        # まれに入るnanを避ける\n",
    "        result_new_tmp = objective(x_new)        \n",
    "        if np.isnan(result_new_tmp):\n",
    "            break\n",
    "        result_new = result_new_tmp\n",
    "        \n",
    "        # パラメータがほとんど更新されなくなったら停止\n",
    "        if np.linalg.norm(x_new - x, 2) < tol:\n",
    "            break;\n",
    "        \n",
    "        x = x_new\n",
    "        result = result_new\n",
    "    return x_new, result_new\n",
    "\n",
    "\n",
    "\n",
    "#X:学習用データベクトルを列ベクトルとして並べた行列\n",
    "#y:ラベルを並べたベクトル\n",
    "def LogisticRegression(X, y, lam):\n",
    "    #　ロジスティック回帰内部の計算\n",
    "    sigma = lambda a : 1.0/(1.0+np.exp(-a))\n",
    "    p=lambda Z, w:sigma(np.dot(Z.T, w))  \n",
    "    X=np.concatenate((np.ones((1,np.size(X,1))), X), 0) #バイアス項の追加\n",
    "\n",
    "    # 勾配\n",
    "    grad_E = lambda w: np.dot(X, p(X, w) - y)\n",
    "    (u, l, v) = np.linalg.svd(X)\n",
    "    gamma = 1.0/max(l.real*l.real)\n",
    "    \n",
    "    # 目的関数\n",
    "    objective = lambda w: - np.sum( y * np.log(p(X, w)) + \\\n",
    "                          (1 - y) *np.log(( 1 - p(X, w)))) + \\\n",
    "                          elastic_norm(lam, w) # <= 正則化手法に応じて変更\n",
    "                        \n",
    "    #proximal operator\n",
    "    prox = lambda w, gamma:prox_elastic(w, gamma, lam) # <= 正則化手法に応じて変更\n",
    "    \n",
    "    # 近接勾配法\n",
    "    w_init = np.zeros(X.shape[0])\n",
    "    (w_hat, result) = proximal_gradient(grad_E, prox, gamma, objective, w_init, lam, 1e-6)\n",
    "    return w_hat, result"
   ]
  },
  {
   "cell_type": "markdown",
   "metadata": {},
   "source": [
    "# Main文"
   ]
  },
  {
   "cell_type": "code",
   "execution_count": 5,
   "metadata": {},
   "outputs": [
    {
     "name": "stdout",
     "output_type": "stream",
     "text": [
      "[0, 0]\n",
      "[1, 1]\n",
      "[2, 2]\n"
     ]
    },
    {
     "data": {
      "image/png": "[encoded data removed]",
      "text/plain": [
       "<Figure size 432x288 with 1 Axes>"
      ]
     },
     "metadata": {
      "needs_background": "light"
     },
     "output_type": "display_data"
    },
    {
     "data": {
      "image/png": "[encoded data removed]",
      "text/plain": [
       "<Figure size 432x288 with 1 Axes>"
      ]
     },
     "metadata": {
      "needs_background": "light"
     },
     "output_type": "display_data"
    },
    {
     "data": {
      "image/png": "[encoded data removed]",
      "text/plain": [
       "<Figure size 432x288 with 1 Axes>"
      ]
     },
     "metadata": {
      "needs_background": "light"
     },
     "output_type": "display_data"
    }
   ],
   "source": [
    "# 任意で変更\n",
    "#lam_len = 50\n",
    "lam_len = 3\n",
    "\n",
    "for lam in range(lam_len):\n",
    "    \n",
    "    lams = [lam, lam]    # L1とL2が同じ割合 /GIF/elastic-same-50.gif\n",
    "    #lams = [lam*2, lam] # L1がL2の２倍 /GIF/elastic-l1x2-50.gif\n",
    "    #lams = [lam, lam*2] # L2がL1の２倍 /GIF/elastic-l2x2-50.gif\n",
    "    \n",
    "    print(lams)\n",
    "    (w, r) = LogisticRegression(x_train, y_train.squeeze(), lams)\n",
    "        \n",
    "        \n",
    "    # 以下、プロット\n",
    "    plt.figure()\n",
    "    im = plt.scatter(range(0,w.shape[0]), w, c='blue')\n",
    "    plt.hlines([0], -1, 9, \"blue\", linestyles='dashed')\n",
    "    plt.xticks([0,1,2,3,4,5,6,7,8], \n",
    "               ['bias', 'Pregnancies', 'Glucose', 'Blood\\nPressure',\n",
    "                'Skin\\nThickness', 'Insulin', 'BMI', 'Diabetes\\nPedigree\\nFunction', 'Age'])\n",
    "    plt.xticks(rotation=45)\n",
    "    plt.xlabel(\"説明変数\")\n",
    "    plt.ylabel(\"重みW\")\n",
    "    plt.title(\"lambda : L1-{} | L2-{}\".format(lams[0], lams[1]))\n",
    "    plt.ylim([-1.1, 1.1])\n",
    "    plt.tight_layout()\n",
    "    plt.plot()\n",
    "    # ディレクトリ tmp_gif_imgを作成し、GIF用画像保存\n",
    "    # plt.savefig(\"tmp_gif_img/{0:03d}\".format(i))\n",
    "\n",
    "# ターミナルより、ffmpegを使用してGIFを作成\n",
    "# ffmpeg -i tmp_gif_img/%03d.png -vf palettegen palette.png\n",
    "# ffmpeg -f image2 -r 10 -i tmp_gif_img/%03d.png -i palette.png -filter_complex paletteuse l1-150.gif"
   ]
  },
  {
   "cell_type": "code",
   "execution_count": null,
   "metadata": {},
   "outputs": [],
   "source": []
  }
 ],
 "metadata": {
  "kernelspec": {
   "display_name": "Python 3",
   "language": "python",
   "name": "python3"
  },
  "language_info": {
   "codemirror_mode": {
    "name": "ipython",
    "version": 3
   },
   "file_extension": ".py",
   "mimetype": "text/x-python",
   "name": "python",
   "nbconvert_exporter": "python",
   "pygments_lexer": "ipython3",
   "version": "3.6.7"
  }
 },
 "nbformat": 4,
 "nbformat_minor": 2
}
